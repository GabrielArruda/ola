{
  "nbformat": 4,
  "nbformat_minor": 0,
  "metadata": {
    "colab": {
      "name": "Aula_Robótica.ipynb",
      "provenance": [],
      "toc_visible": true,
      "authorship_tag": "ABX9TyMhivy69d5h2pmtp8VH2R81",
      "include_colab_link": true
    },
    "kernelspec": {
      "name": "python3",
      "display_name": "Python 3"
    }
  },
  "cells": [
    {
      "cell_type": "markdown",
      "metadata": {
        "id": "view-in-github",
        "colab_type": "text"
      },
      "source": [
        "<a href=\"https://colab.research.google.com/github/GabrielArruda/ola/blob/master/Aula_Rob%C3%B3tica.ipynb\" target=\"_parent\"><img src=\"https://colab.research.google.com/assets/colab-badge.svg\" alt=\"Open In Colab\"/></a>"
      ]
    },
    {
      "cell_type": "code",
      "metadata": {
        "id": "ekTx7Ei9cFs4",
        "colab_type": "code",
        "colab": {}
      },
      "source": [
        ""
      ],
      "execution_count": null,
      "outputs": []
    },
    {
      "cell_type": "markdown",
      "metadata": {
        "id": "iCLJcMWydhAA",
        "colab_type": "text"
      },
      "source": [
        "Diciplina robótica"
      ]
    },
    {
      "cell_type": "markdown",
      "metadata": {
        "id": "-h7Mfs01dlM7",
        "colab_type": "text"
      },
      "source": [
        "#Aula_21_08_20\n"
      ]
    },
    {
      "cell_type": "code",
      "metadata": {
        "id": "qoUinChNdyRA",
        "colab_type": "code",
        "colab": {}
      },
      "source": [
        "\n",
        "import cv2\n",
        "import numpy as np\n",
        "\n",
        "altura = 100\n",
        "largura = 100\n",
        "img = np.zeros([altura,largura,3])\n",
        "for py in range(0,altura):\n",
        "  for px in range(0,largura):\n",
        "    img[py][px][0] = 0\n",
        "    img[py][px][1] = 255\n",
        "    img[py][px][2] = 0\n",
        "\n",
        "cv2.imwrite(\"teste_color.png\", img)"
      ],
      "execution_count": null,
      "outputs": []
    },
    {
      "cell_type": "markdown",
      "metadata": {
        "id": "qawxFlF8gxKa",
        "colab_type": "text"
      },
      "source": [
        "#Aula_27_08_20"
      ]
    },
    {
      "cell_type": "code",
      "metadata": {
        "id": "CPnxuqB2g7t1",
        "colab_type": "code",
        "colab": {}
      },
      "source": [
        "#ex 1\n",
        "lista = [5,7,2,9,4,1,3]\n",
        "a = len(lista)\n",
        "b = max(lista)\n",
        "c = min(lista)\n",
        "d = sum(lista)\n",
        "e = sorted(lista)\n",
        "f = sorted(lista, reverse = True)\n",
        "print(a,'\\n',b,'\\n',c,'\\n',d,'\\n',e,'\\n',f,'\\n')\n",
        "\n",
        "import math\n",
        "#ex 2\n",
        "print('coloque o valor de x')\n",
        "x = int(input())\n",
        "print('coloque o valor de y')\n",
        "y = int(input())\n",
        "z= ((x**2)+(y**2))*((x-y)**2)\n",
        "print('\\n',x,'\\n',y,'\\n',z)"
      ],
      "execution_count": null,
      "outputs": []
    },
    {
      "cell_type": "markdown",
      "metadata": {
        "id": "D_UVxB3FdozB",
        "colab_type": "text"
      },
      "source": [
        "#Aula_28_08_20"
      ]
    },
    {
      "cell_type": "markdown",
      "metadata": {
        "id": "raDQWeKOsA8a",
        "colab_type": "text"
      },
      "source": [
        "criar a imagem"
      ]
    },
    {
      "cell_type": "code",
      "metadata": {
        "id": "Z7YwaZR4dvqu",
        "colab_type": "code",
        "colab": {
          "base_uri": "https://localhost:8080/",
          "height": 34
        },
        "outputId": "531cc324-5259-46d5-b7df-a326ea1c0442"
      },
      "source": [
        "from random import randint\n",
        "import cv2\n",
        "import numpy as np\n",
        "\n",
        "altura = 10\n",
        "largura = 10\n",
        "img = np.zeros([altura,largura,3])\n",
        "\n",
        "\n",
        "for py in range(0,altura):\n",
        "  for px in range(0,largura):\n",
        "    if (px == py):\n",
        "      img[py][px][0] = 0 #cor azul\n",
        "      img[py][px][1] = 0 #cor verde\n",
        "      img[py][px][2] = 0 # cor vermlha\n",
        "    \n",
        "    else:\n",
        "      #vlram = randint(0,255)\n",
        "      img[py][px][0] = 0 #cor azul\n",
        "      img[py][px][1] = 255 #cor verde\n",
        "      img[py][px][2] = 0 # cor vermlha\n",
        "\n",
        "cv2.imwrite(\"teste_color.png\", img)"
      ],
      "execution_count": null,
      "outputs": [
        {
          "output_type": "execute_result",
          "data": {
            "text/plain": [
              "True"
            ]
          },
          "metadata": {
            "tags": []
          },
          "execution_count": 1
        }
      ]
    },
    {
      "cell_type": "markdown",
      "metadata": {
        "id": "I59tMNpwr9sY",
        "colab_type": "text"
      },
      "source": [
        "ler a imagem"
      ]
    },
    {
      "cell_type": "code",
      "metadata": {
        "id": "Bjs9loBIrqfj",
        "colab_type": "code",
        "colab": {
          "base_uri": "https://localhost:8080/",
          "height": 34
        },
        "outputId": "a48c01da-ca4c-4cfd-9631-37e7501b49c7"
      },
      "source": [
        "from IPython.display import Image\n",
        "\n",
        "filename = \"teste_color.png\"\n",
        "\n",
        "display(Image(filename))"
      ],
      "execution_count": null,
      "outputs": [
        {
          "output_type": "display_data",
          "data": {
            "image/png": "[encoded data removed]",
            "text/plain": [
              "<IPython.core.display.Image object>"
            ]
          },
          "metadata": {
            "tags": []
          }
        }
      ]
    },
    {
      "cell_type": "markdown",
      "metadata": {
        "id": "Cl0M9dzJxAx5",
        "colab_type": "text"
      },
      "source": [
        "mostrar matriz de uma imagem"
      ]
    },
    {
      "cell_type": "code",
      "metadata": {
        "id": "UucnM3ItxErL",
        "colab_type": "code",
        "colab": {}
      },
      "source": [
        ""
      ],
      "execution_count": null,
      "outputs": []
    },
    {
      "cell_type": "markdown",
      "metadata": {
        "id": "44lS20UOj65u",
        "colab_type": "text"
      },
      "source": [
        "#AULA_03_09_20"
      ]
    },
    {
      "cell_type": "markdown",
      "metadata": {
        "id": "L0y0pNgzhHmR",
        "colab_type": "text"
      },
      "source": [
        "calcula o histograma"
      ]
    },
    {
      "cell_type": "code",
      "metadata": {
        "id": "OZm-ceqWj-VN",
        "colab_type": "code",
        "colab": {}
      },
      "source": [
        "import cv2\n",
        "import matplotlib.pylab as plt\n",
        "\n",
        "img = cv2.imread('teste_color.png')\n",
        "plt.hist(img.ravel(), bins = 256, range = [0,256])\n",
        "plt.show()"
      ],
      "execution_count": null,
      "outputs": []
    },
    {
      "cell_type": "markdown",
      "metadata": {
        "id": "i2eSYGFwhDV6",
        "colab_type": "text"
      },
      "source": [
        "transforma a imagem para tons de cinza"
      ]
    },
    {
      "cell_type": "code",
      "metadata": {
        "id": "q7t7ktydg__a",
        "colab_type": "code",
        "colab": {}
      },
      "source": [
        "import cv2\n",
        "import numpy as np\n",
        "\n",
        "imagem = cv2.imread('poo.jpg')\n",
        "altura, largura, bytesPorPixel = np.shape(imagem)\n",
        "img = np.zeros([altura,largura,3])\n",
        "for py in range(0, altura):\n",
        "  for px in range(0, largura):\n",
        "    img[py][px][0] = img[py][px][0]\n",
        "    img[py][px][1] = img[py][px][0]\n",
        "    img[py][px][2] = img[py][px][0]\n",
        "cv2.imwrite(\"poo.jpg\", img)\n",
        "\n"
      ],
      "execution_count": null,
      "outputs": []
    },
    {
      "cell_type": "markdown",
      "metadata": {
        "id": "b4rRJRaqemK9",
        "colab_type": "text"
      },
      "source": [
        "#Aula_04_09_20"
      ]
    },
    {
      "cell_type": "markdown",
      "metadata": {
        "id": "MIWL5pfVuws_",
        "colab_type": "text"
      },
      "source": [
        "threshold"
      ]
    },
    {
      "cell_type": "code",
      "metadata": {
        "id": "ETVAsHIZeqsX",
        "colab_type": "code",
        "colab": {
          "base_uri": "https://localhost:8080/",
          "height": 282
        },
        "outputId": "3c57ca03-6242-4cb3-ef8e-9f621366f166"
      },
      "source": [
        "import cv2\n",
        "import numpy as np\n",
        "import matplotlib.pylab as plt\n",
        "\n",
        "imagem = cv2.imread('poo.jpg')\n",
        "altura, largura, bytesPorPixel = np.shape(imagem)\n",
        "img = np.zeros([altura, largura, 3])\n",
        "\n",
        "for py in range(0, altura):\n",
        "  for px in range(0, largura):\n",
        "    img[py][px][0] = imagem[py][px][0]\n",
        "    img[py][px][1] = imagem[py][px][0]\n",
        "    img[py][px][2] = imagem[py][px][0]\n",
        "cv2.imwrite(\"grey_poo.jpg\", img)\n",
        "\n",
        "img = cv2.imread(\"grey_poo.jpg\", 0)\n",
        "ret,thresh1 = cv2.threshold(img,100,255,cv2.THRESH_BINARY)\n",
        "\n",
        "histr = cv2.calcHist([thresh1],[0],None,[256],[0,256])\n",
        "plt.plot(histr,color=(0,0,0))\n",
        "plt.xlim([0,256])\n",
        "plt.show()\n",
        "\n",
        "cv2.imwrite(\"Tresh_grey_poo.jpg\", thresh1)"
      ],
      "execution_count": null,
      "outputs": [
        {
          "output_type": "display_data",
          "data": {
            "image/png": "[encoded data removed]",
            "text/plain": [
              "<Figure size 432x288 with 1 Axes>"
            ]
          },
          "metadata": {
            "tags": [],
            "needs_background": "light"
          }
        },
        {
          "output_type": "execute_result",
          "data": {
            "text/plain": [
              "True"
            ]
          },
          "metadata": {
            "tags": []
          },
          "execution_count": 13
        }
      ]
    }
  ]
}